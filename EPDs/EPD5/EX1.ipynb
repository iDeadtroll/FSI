{
 "cells": [
  {
   "cell_type": "markdown",
   "id": "5882bdcf-f20b-438b-a023-a360b6e9f17e",
   "metadata": {},
   "source": [
    "# Esto es un h1\n",
    "## Esto es un h2\n",
    "###### Esto es un h6"
   ]
  },
  {
   "cell_type": "markdown",
   "id": "b378a288-e3c6-42e7-83a3-fe5951ac4507",
   "metadata": {},
   "source": [
    "---"
   ]
  },
  {
   "cell_type": "markdown",
   "id": "2acd2364-61cd-4b22-9af4-2c71c9c88646",
   "metadata": {},
   "source": [
    "*This text will be italic*\n",
    "_This will also be italic_\n",
    "**This text will be bold**\n",
    "__This will also be bold__\n",
    "*You **can** combine them*"
   ]
  },
  {
   "cell_type": "markdown",
   "id": "da661f17-6ef9-40fd-a087-0c9423cd9da4",
   "metadata": {},
   "source": [
    "---"
   ]
  },
  {
   "cell_type": "markdown",
   "id": "7b1f71f3-d5bc-4389-a221-5dc345d9c9f2",
   "metadata": {},
   "source": [
    "* Item 1\n",
    "* Item 2  \n",
    "    * Item 2a  \n",
    "    * Item 2b"
   ]
  },
  {
   "cell_type": "markdown",
   "id": "503dbe24-befb-4375-bdc8-7ef3891e9e65",
   "metadata": {},
   "source": [
    "* Item 1\n",
    "* Item 2  \n",
    "    * Item 2a  \n",
    "    * Item 2b"
   ]
  },
  {
   "cell_type": "markdown",
   "id": "67251f81-5d76-423b-82e3-35952930abcc",
   "metadata": {},
   "source": [
    "---"
   ]
  },
  {
   "cell_type": "markdown",
   "id": "6444cba3-8028-4670-aff3-615b6c6a96fd",
   "metadata": {},
   "source": [
    "1. Item 1\n",
    "2. Item 2\n",
    "3. Item 3   \n",
    "    * Item 3a   \n",
    "    * Item 3b"
   ]
  },
  {
   "cell_type": "markdown",
   "id": "b9a103a1-316d-4c9c-abb5-e46c9ac70262",
   "metadata": {},
   "source": [
    "1. Item 1\n",
    "2. Item 2\n",
    "3. Item 3   \n",
    "    * Item 3a   \n",
    "    * Item 3b"
   ]
  },
  {
   "cell_type": "markdown",
   "id": "d39f0cdd-5847-495a-8ebd-5553dac62a5e",
   "metadata": {},
   "source": [
    "---"
   ]
  },
  {
   "cell_type": "markdown",
   "id": "4c133c29-a2fe-46b0-a452-50f3721ed9d0",
   "metadata": {},
   "source": [
    "Una cita:\n",
    "> Esto lo dijo alguien importante"
   ]
  },
  {
   "cell_type": "markdown",
   "id": "0bd8911d-5833-49f7-a564-be26e17f4096",
   "metadata": {},
   "source": [
    "Una cita:\n",
    "> Esto lo dijo alguien importante"
   ]
  },
  {
   "cell_type": "markdown",
   "id": "e7b3b818-22b8-416f-af71-14406e19fa00",
   "metadata": {},
   "source": [
    "---"
   ]
  },
  {
   "cell_type": "markdown",
   "id": "9fb07ffd-25d1-40d1-bf3e-398b0a5d49c5",
   "metadata": {},
   "source": [
    "\\*literal asterisks\\*"
   ]
  },
  {
   "cell_type": "markdown",
   "id": "df7ed83d-c2cd-406d-9b3d-ffb7aa973046",
   "metadata": {},
   "source": [
    "---"
   ]
  },
  {
   "cell_type": "markdown",
   "id": "a4fdf9f4-f4b0-4c2c-a9c3-74cde553d1f7",
   "metadata": {},
   "source": [
    "[GitHub](http://github.com)"
   ]
  },
  {
   "cell_type": "markdown",
   "id": "2486e4d6-781e-4bc4-9332-45b274c5eb90",
   "metadata": {},
   "source": [
    "---"
   ]
  },
  {
   "cell_type": "code",
   "execution_count": 3,
   "id": "3d225c0a-cee9-4136-ba46-1fe3af8746bc",
   "metadata": {},
   "outputs": [
    {
     "name": "stdout",
     "output_type": "stream",
     "text": [
      "Hola mundo\n"
     ]
    }
   ],
   "source": [
    "print(\"Hola mundo\")"
   ]
  },
  {
   "cell_type": "markdown",
   "id": "e01cc5fa-beff-46cb-88e9-9a4ac3be0916",
   "metadata": {},
   "source": [
    "---"
   ]
  },
  {
   "cell_type": "markdown",
   "id": "6d78b241-a8a9-4b7c-87a3-dcc1e2cebfc7",
   "metadata": {},
   "source": [
    "First Header | Second Header\n",
    "------------ | -------------\n",
    "Content cell 1 | Content cell 2\n",
    "Content column 1 | Content column "
   ]
  }
 ],
 "metadata": {
  "kernelspec": {
   "display_name": "Python 3 (ipykernel)",
   "language": "python",
   "name": "python3"
  },
  "language_info": {
   "codemirror_mode": {
    "name": "ipython",
    "version": 3
   },
   "file_extension": ".py",
   "mimetype": "text/x-python",
   "name": "python",
   "nbconvert_exporter": "python",
   "pygments_lexer": "ipython3",
   "version": "3.9.16"
  }
 },
 "nbformat": 4,
 "nbformat_minor": 5
}
