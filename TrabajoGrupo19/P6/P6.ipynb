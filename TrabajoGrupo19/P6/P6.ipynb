{
  "cells": [
    {
      "cell_type": "markdown",
      "metadata": {
        "id": "rst6LWQ8RPvV"
      },
      "source": [
        "# Problema6\n",
        "\n",
        "## Generar graficos a partir de un dataset usando Seaborn."
      ]
    },
    {
      "cell_type": "markdown",
      "metadata": {
        "id": "OJjQ9u__R_SH"
      },
      "source": [
        "## Instalando libreria Seaborn"
      ]
    },
    {
      "cell_type": "code",
      "execution_count": null,
      "metadata": {
        "colab": {
          "base_uri": "https://localhost:8080/"
        },
        "id": "UPh2NmolQD1K",
        "outputId": "c3e3a2ab-42d8-467d-fab9-6a7ae36677ca"
      },
      "outputs": [],
      "source": [
        "!pip install seaborn"
      ]
    },
    {
      "cell_type": "code",
      "execution_count": null,
      "metadata": {},
      "outputs": [],
      "source": [
        "!pip install matplotlib"
      ]
    },
    {
      "cell_type": "code",
      "execution_count": null,
      "metadata": {},
      "outputs": [],
      "source": [
        "\n",
        "!pip install pandas"
      ]
    },
    {
      "cell_type": "markdown",
      "metadata": {
        "id": "rT1CxeFe4iWF"
      },
      "source": [
        "## Añadiendo librerias y generando dataframe."
      ]
    },
    {
      "cell_type": "code",
      "execution_count": 18,
      "metadata": {
        "id": "GS_yJ7bIWQKs"
      },
      "outputs": [],
      "source": [
        "import matplotlib.pyplot as plt\n",
        "import seaborn as sbn\n",
        "import pandas as pd"
      ]
    },
    {
      "cell_type": "code",
      "execution_count": 19,
      "metadata": {
        "colab": {
          "base_uri": "https://localhost:8080/",
          "height": 424
        },
        "id": "j4GC1Ekse3jK",
        "outputId": "291e2845-c52f-4de1-82bb-097264187646"
      },
      "outputs": [
        {
          "data": {
            "text/html": [
              "<div>\n",
              "<style scoped>\n",
              "    .dataframe tbody tr th:only-of-type {\n",
              "        vertical-align: middle;\n",
              "    }\n",
              "\n",
              "    .dataframe tbody tr th {\n",
              "        vertical-align: top;\n",
              "    }\n",
              "\n",
              "    .dataframe thead th {\n",
              "        text-align: right;\n",
              "    }\n",
              "</style>\n",
              "<table border=\"1\" class=\"dataframe\">\n",
              "  <thead>\n",
              "    <tr style=\"text-align: right;\">\n",
              "      <th></th>\n",
              "      <th>Pos</th>\n",
              "      <th>Min</th>\n",
              "      <th>Age</th>\n",
              "      <th>G+A</th>\n",
              "    </tr>\n",
              "  </thead>\n",
              "  <tbody>\n",
              "    <tr>\n",
              "      <th>0</th>\n",
              "      <td>FW,MF</td>\n",
              "      <td>217</td>\n",
              "      <td>20</td>\n",
              "      <td>0</td>\n",
              "    </tr>\n",
              "    <tr>\n",
              "      <th>1</th>\n",
              "      <td>MF</td>\n",
              "      <td>63</td>\n",
              "      <td>26</td>\n",
              "      <td>0</td>\n",
              "    </tr>\n",
              "    <tr>\n",
              "      <th>2</th>\n",
              "      <td>MF</td>\n",
              "      <td>400</td>\n",
              "      <td>24</td>\n",
              "      <td>0</td>\n",
              "    </tr>\n",
              "    <tr>\n",
              "      <th>3</th>\n",
              "      <td>DF</td>\n",
              "      <td>921</td>\n",
              "      <td>34</td>\n",
              "      <td>0</td>\n",
              "    </tr>\n",
              "    <tr>\n",
              "      <th>4</th>\n",
              "      <td>DF,MF</td>\n",
              "      <td>219</td>\n",
              "      <td>30</td>\n",
              "      <td>1</td>\n",
              "    </tr>\n",
              "    <tr>\n",
              "      <th>...</th>\n",
              "      <td>...</td>\n",
              "      <td>...</td>\n",
              "      <td>...</td>\n",
              "      <td>...</td>\n",
              "    </tr>\n",
              "    <tr>\n",
              "      <th>722</th>\n",
              "      <td>FW</td>\n",
              "      <td>56</td>\n",
              "      <td>23</td>\n",
              "      <td>0</td>\n",
              "    </tr>\n",
              "    <tr>\n",
              "      <th>723</th>\n",
              "      <td>MF</td>\n",
              "      <td>619</td>\n",
              "      <td>28</td>\n",
              "      <td>6</td>\n",
              "    </tr>\n",
              "    <tr>\n",
              "      <th>724</th>\n",
              "      <td>FW,MF</td>\n",
              "      <td>148</td>\n",
              "      <td>29</td>\n",
              "      <td>0</td>\n",
              "    </tr>\n",
              "    <tr>\n",
              "      <th>725</th>\n",
              "      <td>FW,MF</td>\n",
              "      <td>365</td>\n",
              "      <td>25</td>\n",
              "      <td>2</td>\n",
              "    </tr>\n",
              "    <tr>\n",
              "      <th>726</th>\n",
              "      <td>MF</td>\n",
              "      <td>91</td>\n",
              "      <td>23</td>\n",
              "      <td>0</td>\n",
              "    </tr>\n",
              "  </tbody>\n",
              "</table>\n",
              "<p>727 rows × 4 columns</p>\n",
              "</div>"
            ],
            "text/plain": [
              "       Pos  Min  Age  G+A\n",
              "0    FW,MF  217   20    0\n",
              "1       MF   63   26    0\n",
              "2       MF  400   24    0\n",
              "3       DF  921   34    0\n",
              "4    DF,MF  219   30    1\n",
              "..     ...  ...  ...  ...\n",
              "722     FW   56   23    0\n",
              "723     MF  619   28    6\n",
              "724  FW,MF  148   29    0\n",
              "725  FW,MF  365   25    2\n",
              "726     MF   91   23    0\n",
              "\n",
              "[727 rows x 4 columns]"
            ]
          },
          "execution_count": 19,
          "metadata": {},
          "output_type": "execute_result"
        }
      ],
      "source": [
        "Jugadores = 'https://raw.githubusercontent.com/iDeadtroll/FSI/main/TrabajoGrupo19/P5/19_ucl_stats.csv'\n",
        "df1 = pd.read_csv(Jugadores)\n",
        "df1[[\"Pos\",\"Min\",\"Age\",\"G+A\"]]"
      ]
    },
    {
      "cell_type": "markdown",
      "metadata": {
        "id": "cjPhFRpa41iq"
      },
      "source": [
        "## Generamos el gráfico para interpretar algun tipo de dato en concreto."
      ]
    },
    {
      "cell_type": "code",
      "execution_count": 20,
      "metadata": {
        "colab": {
          "base_uri": "https://localhost:8080/",
          "height": 466
        },
        "id": "xC2r-qiAO-s2",
        "outputId": "e6a8b0b9-2262-4d2c-d814-0dfb36973121"
      },
      "outputs": [
        {
          "data": {
            "image/png": "[encoded data removed]",
            "text/plain": [
              "<Figure size 640x480 with 1 Axes>"
            ]
          },
          "metadata": {},
          "output_type": "display_data"
        }
      ],
      "source": [
        "plt.figure()\n",
        "sbn.scatterplot(x='Age', y='G+A', data=df1)\n",
        "plt.savefig(\"Rendimiento.png\")"
      ]
    },
    {
      "cell_type": "markdown",
      "metadata": {
        "id": "_fXM3V_PVu0A"
      },
      "source": [
        "### El gráfico resultante muestra la relación entre la edad de los jugadores de fútbol y su rendimiento (medido por la suma de goles y asistencias). Cada punto en el gráfico representa a un jugador, y su posición en el gráfico indica su edad y rendimiento. Este tipo de gráfico puede ser útil para analizar cómo el rendimiento de los jugadores de fútbol cambia con la edad"
      ]
    }
  ],
  "metadata": {
    "colab": {
      "provenance": [],
      "toc_visible": true
    },
    "kernelspec": {
      "display_name": "Python 3",
      "name": "python3"
    },
    "language_info": {
      "codemirror_mode": {
        "name": "ipython",
        "version": 3
      },
      "file_extension": ".py",
      "mimetype": "text/x-python",
      "name": "python",
      "nbconvert_exporter": "python",
      "pygments_lexer": "ipython3",
      "version": "3.10.12"
    }
  },
  "nbformat": 4,
  "nbformat_minor": 0
}
